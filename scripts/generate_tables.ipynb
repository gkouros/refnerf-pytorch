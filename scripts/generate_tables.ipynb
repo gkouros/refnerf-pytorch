{
 "cells": [
  {
   "cell_type": "code",
   "execution_count": 4,
   "metadata": {
    "id": "wbSGA8PNKvIy"
   },
   "outputs": [],
   "source": [
    "import glob\n",
    "import os\n",
    "import numpy as np\n",
    "import matplotlib.pyplot as plt\n",
    "from collections import defaultdict\n",
    "from matplotlib import rc\n",
    "plt.rc('font', family='serif')\n",
    "import tensorflow as tf\n",
    "import time"
   ]
  },
  {
   "cell_type": "code",
   "execution_count": null,
   "metadata": {
    "id": "RpuHMCndxqs4"
   },
   "outputs": [],
   "source": [
    "def scrape_folder(folder, num_iters, metric_names = ['psnr', 'ssim', 'lpips']):\n",
    "  stats = {}\n",
    "  for i_metric, metric_name in enumerate(metric_names):\n",
    "    filename = os.path.join(folder, 'test_preds', f'metric_{metric_name}_{num_iters}.txt')\n",
    "    with open(filename, mode='r') as f:\n",
    "      v = np.array([float(s) for s in f.readline().split(' ')])\n",
    "    stats[metric_name] = np.mean(v)\n",
    "\n",
    "  tic = time.time()\n",
    "  grab_tags = ['train_steps_per_sec', 'num_params', 'train_num_params']\n",
    "  grabbed_tags = {k:[] for k in grab_tags}\n",
    "  for pattern in ['events*']:#, 'eval/events*']:\n",
    "    for event_file in glob.glob(os.path.join(folder, pattern)):\n",
    "      for event in tf.compat.v1.train.summary_iterator(event_file):\n",
    "        value = event.summary.value\n",
    "        if len(value) > 0:\n",
    "          tag = event.summary.value[0].tag\n",
    "          if tag in grab_tags:\n",
    "            grabbed_tags[tag].append(np.array(tf.make_ndarray(event.summary.value[0].tensor)).item())\n",
    "\n",
    "  if grabbed_tags['train_steps_per_sec']:\n",
    "    steps_per_sec = np.percentile(np.array(grabbed_tags['train_steps_per_sec']), 95)\n",
    "    stats['num_hours'] = (num_iters / steps_per_sec) / (60**2)\n",
    "  else:\n",
    "    stats['num_hours'] = np.nan\n",
    "\n",
    "  if grabbed_tags['num_params']:\n",
    "    stats['mega_params'] = int(np.max(grabbed_tags['num_params'])) / (1000000) # in millions\n",
    "  elif grabbed_tags['train_num_params']:\n",
    "    stats['mega_params'] = int(np.max(grabbed_tags['train_num_params'])) / (1000000) # in millions\n",
    "  else:\n",
    "    stats['mega_params'] = np.nan\n",
    "\n",
    "  return stats\n",
    "\n",
    "def render_table(names, data, precisions, rank_order, suffixes=None, hlines = []):\n",
    "  def rankify(x, order):\n",
    "    assert len(x.shape) == 1\n",
    "    if order == 0:\n",
    "      return np.full_like(x, 1e5, dtype=np.int32)\n",
    "    u = np.sort(np.unique(x))\n",
    "    if order == 1:\n",
    "      u = u[::-1]\n",
    "    r = np.zeros_like(x, dtype=np.int32)\n",
    "    for ui, uu in enumerate(u):\n",
    "      mask = x == uu\n",
    "      r[mask] = ui\n",
    "    return np.int32(r)\n",
    "\n",
    "  tags = ['   \\cellcolor{red}',\n",
    "          '\\cellcolor{orange}',\n",
    "          '\\cellcolor{yellow}',\n",
    "          '                  ']\n",
    "\n",
    "  max_len = max([len(v) for v in list(names)])\n",
    "  names_padded = [v + ' '*(max_len-len(v)) for v in names]\n",
    "\n",
    "  data_quant = np.round((data * 10.**(np.array(precisions)[None, :]))) / 10.**(np.array(precisions)[None, :])\n",
    "  if suffixes is None:\n",
    "    suffixes = [''] * len(precisions)\n",
    "\n",
    "  tagranks = []\n",
    "  for d in range(data_quant.shape[1]):\n",
    "    tagranks.append(np.clip(rankify(data_quant[:,d], rank_order[d]), 0, len(tags)-1))\n",
    "  tagranks = np.stack(tagranks, -1)\n",
    "\n",
    "  for i_row in range(len(names)):\n",
    "    line = ''\n",
    "    if i_row in hlines:\n",
    "      line += '\\\\hline\\n'\n",
    "    line += names_padded[i_row]\n",
    "    for d in range(data_quant.shape[1]):\n",
    "      line += ' & '\n",
    "      if rank_order[d] != 0 and not np.isnan(data[i_row,d]):\n",
    "        line += tags[tagranks[i_row, d]]\n",
    "      if np.isnan(data[i_row,d]):\n",
    "        line += ' - '\n",
    "      else:\n",
    "        assert precisions[d] >= 0\n",
    "        line += ('{:' + f'0.{precisions[d]}f' + '}').format(data_quant[i_row,d]) + suffixes[d]\n",
    "    line += ' \\\\\\\\'\n",
    "    print(line)\n"
   ]
  },
  {
   "cell_type": "markdown",
   "metadata": {
    "id": "JRakQXoa5c_s"
   },
   "source": [
    "Reproducing Ref-NeRF's Results"
   ]
  },
  {
   "cell_type": "code",
   "execution_count": null,
   "metadata": {
    "executionInfo": {
     "elapsed": 6652,
     "status": "ok",
     "timestamp": 1656870940046,
     "user": {
      "displayName": "",
      "userId": ""
     },
     "user_tz": -60
    },
    "id": "8W1_8o5cpdnP",
    "outputId": "1d52a6be-be7d-415a-fac4-681b5594e1f8"
   },
   "outputs": [
    {
     "name": "stdout",
     "output_type": "stream",
     "text": [
      "blender_refnerf_453115176 chair {'psnr': 35.43609601974487, 'ssim': 0.9821090731024742, 'lpips': 0.019048675729427488, 'normals_mae': 20.85330159, 'num_hours': 6.571275680175564, 'mega_params': 0.71323}\n",
      "blender_refnerf_453115176 drums {'psnr': 25.852998418807985, 'ssim': 0.9371991902589798, 'lpips': 0.06024521112442017, 'normals_mae': 27.641556060000003, 'num_hours': 6.567777006412732, 'mega_params': 0.71323}\n",
      "blender_refnerf_453115176 ficus {'psnr': 30.604970512390135, 'ssim': 0.966888021826744, 'lpips': 0.03917563056573272, 'normals_mae': 40.80395823, 'num_hours': 6.5770709353398535, 'mega_params': 0.71323}\n",
      "blender_refnerf_453115176 hotdog {'psnr': 37.485798597335815, 'ssim': 0.9824606701731682, 'lpips': 0.02336025163065642, 'normals_mae': 8.700470121, 'num_hours': 6.570256454244849, 'mega_params': 0.71323}\n",
      "blender_refnerf_453115176 lego {'psnr': 36.05616488456726, 'ssim': 0.9799841883778572, 'lpips': 0.01861008478794247, 'normals_mae': 24.550344864999996, 'num_hours': 6.577586022517292, 'mega_params': 0.71323}\n",
      "blender_refnerf_453115176 materials {'psnr': 35.035994396209716, 'ssim': 0.9813295957446099, 'lpips': 0.023410547198727726, 'normals_mae': 10.3090648925, 'num_hours': 6.568449424984051, 'mega_params': 0.71323}\n",
      "blender_refnerf_453115176 mic {'psnr': 36.72967861175537, 'ssim': 0.9917984154820442, 'lpips': 0.007707923451671377, 'normals_mae': 23.699775159999998, 'num_hours': 6.5744581258500725, 'mega_params': 0.71323}\n",
      "blender_refnerf_453115176 ship {'psnr': 30.507489061355592, 'ssim': 0.8849879172444344, 'lpips': 0.13231919281184673, 'normals_mae': 30.48735126, 'num_hours': 6.570066162619403, 'mega_params': 0.71323}\n",
      "blender_refnerf_453115176 {'psnr': 33.46364881277084, 'ssim': 0.963344634026289, 'lpips': 0.04048468966255314, 'normals_mae': 23.3807277723125, 'num_hours': 6.5721174765179775, 'mega_params': 0.71323}\n"
     ]
    }
   ],
   "source": [
    "root_folder = '/cns/lu-d/home/buff/dorverbin/nerf/mipnerf360/'\n",
    "scene_names = ['chair', 'drums', 'ficus', 'hotdog', 'lego', 'materials', 'mic', 'ship']\n",
    "metric_names = ['psnr', 'ssim', 'lpips', 'normals_mae']\n",
    "\n",
    "models_meta = {} # folder : latex_name\n",
    "models_meta[None] = 'ref-NeRF (from the paper)'\n",
    "models_meta['blender_refnerf_453115176'] = 'ref-NeRF 360'\n",
    "\n",
    "NUM_ITERS = 250000\n",
    "\n",
    "all_stats = []\n",
    "avg_stats = []\n",
    "for model_path in models_meta.keys():\n",
    "\n",
    "  if model_path is None:\n",
    "    # Inject the numbers from the paper.\n",
    "    psnrs = [35.83, 25.79, 33.91, 37.72, 36.25, 35.41, 36.76, 30.28]\n",
    "    ssims = [0.984, 0.937, 0.983, 0.984, 0.981, 0.983, 0.992, 0.880]\n",
    "    lpips = [0.017, 0.059, 0.019, 0.022, 0.018, 0.022, 0.007, 0.139]\n",
    "    # There was a bug in MAE computation for ['ficus', 'lego', 'mic'] in the paper, those numbers shouldn't be trusted.\n",
    "    nmaes = [19.852, 27.853, np.nan, 13.211, np.nan, 9.531, np.nan, 31.707]\n",
    "    train_times = [np.nan]*len(psnrs)\n",
    "    model_sizes = [np.nan]*len(psnrs)\n",
    "    scene_stats = []\n",
    "    for p, s, l, n, tt, ms in zip(psnrs, ssims, lpips, nmaes, train_times, model_sizes):\n",
    "      scene_stats.append({'psnr': p, 'ssim': s, 'lpips': l, 'normals_mae': n, 'num_hours': tt, 'mega_params': ms})\n",
    "    avg_stats.append({k: type(scene_stats[0][k])(np.mean([s[k] for s in scene_stats])) for k in scene_stats[0].keys()})\n",
    "    all_stats.append(scene_stats)\n",
    "    continue;\n",
    "\n",
    "  scene_stats = []\n",
    "  for scene_name in scene_names:\n",
    "    folder = os.path.join(root_folder, model_path, scene_name)\n",
    "    stats = scrape_folder(folder, NUM_ITERS, metric_names=metric_names)\n",
    "    print(model_path, scene_name, stats)\n",
    "    scene_stats.append(stats)\n",
    "  avg_stats.append({k: type(scene_stats[0][k])(np.mean([s[k] for s in scene_stats])) for k in scene_stats[0].keys()})\n",
    "  all_stats.append(scene_stats)\n",
    "  print(model_path, avg_stats[-1])"
   ]
  },
  {
   "cell_type": "code",
   "execution_count": null,
   "metadata": {
    "executionInfo": {
     "elapsed": 67,
     "status": "ok",
     "timestamp": 1656870940232,
     "user": {
      "displayName": "",
      "userId": ""
     },
     "user_tz": -60
    },
    "id": "EPQZUmp7p2N1",
    "outputId": "3ee94963-dd84-4025-b61f-21c58d8f2b84"
   },
   "outputs": [
    {
     "name": "stdout",
     "output_type": "stream",
     "text": [
      "ref-NeRF (from the paper) &    \\cellcolor{red}33.99 &    \\cellcolor{red}0.966 &    \\cellcolor{red}0.038 &  -  &  -  &  -  \\\\\n",
      "ref-NeRF 360              & \\cellcolor{orange}33.46 & \\cellcolor{orange}0.963 & \\cellcolor{orange}0.040 &    \\cellcolor{red}23.38 & 6.57 & 0.7M \\\\\n"
     ]
    }
   ],
   "source": [
    "names = list(models_meta.values())\n",
    "data = np.stack([list(s.values()) for s in avg_stats])\n",
    "precisions = [2, 3, 3, 2, 2, 1]\n",
    "rank_order = [1, 1, -1, -1, 0, 0]  # +1 = higher is better, -1 = lower is better, 0 = do not color code\n",
    "suffixes = ['', '', '', '', '', 'M']\n",
    "render_table(names, data, precisions, rank_order, suffixes=suffixes)"
   ]
  },
  {
   "cell_type": "code",
   "execution_count": null,
   "metadata": {
    "executionInfo": {
     "elapsed": 72,
     "status": "ok",
     "timestamp": 1656870940411,
     "user": {
      "displayName": "",
      "userId": ""
     },
     "user_tz": -60
    },
    "id": "8dZGlK7iKI48",
    "outputId": "b2c70244-b4b2-4e93-9fa1-1706053b2a1c"
   },
   "outputs": [
    {
     "name": "stdout",
     "output_type": "stream",
     "text": [
      "psnr\n",
      " & \\textit{chair} & \\textit{drums} & \\textit{ficus} & \\textit{hotdog} & \\textit{lego} & \\textit{materials} & \\textit{mic} & \\textit{ship} \\\\\\hline\n",
      "ref-NeRF (from the paper) &    \\cellcolor{red}35.83 & \\cellcolor{orange}25.79 &    \\cellcolor{red}33.91 &    \\cellcolor{red}37.72 &    \\cellcolor{red}36.25 &    \\cellcolor{red}35.41 &    \\cellcolor{red}36.76 & \\cellcolor{orange}30.28 \\\\\n",
      "ref-NeRF 360              & \\cellcolor{orange}35.44 &    \\cellcolor{red}25.85 & \\cellcolor{orange}30.60 & \\cellcolor{orange}37.49 & \\cellcolor{orange}36.06 & \\cellcolor{orange}35.04 & \\cellcolor{orange}36.73 &    \\cellcolor{red}30.51 \\\\\n",
      "\n",
      "ssim\n",
      " & \\textit{chair} & \\textit{drums} & \\textit{ficus} & \\textit{hotdog} & \\textit{lego} & \\textit{materials} & \\textit{mic} & \\textit{ship} \\\\\\hline\n",
      "ref-NeRF (from the paper) &    \\cellcolor{red}0.984 &    \\cellcolor{red}0.937 &    \\cellcolor{red}0.983 &    \\cellcolor{red}0.984 &    \\cellcolor{red}0.981 &    \\cellcolor{red}0.983 &    \\cellcolor{red}0.992 & \\cellcolor{orange}0.880 \\\\\n",
      "ref-NeRF 360              & \\cellcolor{orange}0.982 &    \\cellcolor{red}0.937 & \\cellcolor{orange}0.967 & \\cellcolor{orange}0.982 & \\cellcolor{orange}0.980 & \\cellcolor{orange}0.981 &    \\cellcolor{red}0.992 &    \\cellcolor{red}0.885 \\\\\n",
      "\n",
      "lpips\n",
      " & \\textit{chair} & \\textit{drums} & \\textit{ficus} & \\textit{hotdog} & \\textit{lego} & \\textit{materials} & \\textit{mic} & \\textit{ship} \\\\\\hline\n",
      "ref-NeRF (from the paper) &    \\cellcolor{red}0.017 &    \\cellcolor{red}0.059 &    \\cellcolor{red}0.019 &    \\cellcolor{red}0.022 &    \\cellcolor{red}0.018 &    \\cellcolor{red}0.022 &    \\cellcolor{red}0.007 & \\cellcolor{orange}0.139 \\\\\n",
      "ref-NeRF 360              & \\cellcolor{orange}0.019 & \\cellcolor{orange}0.060 & \\cellcolor{orange}0.039 & \\cellcolor{orange}0.023 & \\cellcolor{orange}0.019 & \\cellcolor{orange}0.023 & \\cellcolor{orange}0.008 &    \\cellcolor{red}0.132 \\\\\n",
      "\n",
      "normals_mae\n",
      " & \\textit{chair} & \\textit{drums} & \\textit{ficus} & \\textit{hotdog} & \\textit{lego} & \\textit{materials} & \\textit{mic} & \\textit{ship} \\\\\\hline\n",
      "ref-NeRF (from the paper) &    \\cellcolor{red}19.85 & \\cellcolor{orange}27.85 &  -  & \\cellcolor{orange}13.21 &  -  &    \\cellcolor{red}9.53 &  -  & \\cellcolor{orange}31.71 \\\\\n",
      "ref-NeRF 360              & \\cellcolor{orange}20.85 &    \\cellcolor{red}27.64 &    \\cellcolor{red}40.80 &    \\cellcolor{red}8.70 &    \\cellcolor{red}24.55 & \\cellcolor{orange}10.31 &    \\cellcolor{red}23.70 &    \\cellcolor{red}30.49 \\\\\n",
      "\n"
     ]
    }
   ],
   "source": [
    "names = list(models_meta.values())\n",
    "\n",
    "precisions = [2, 3, 3, 2]\n",
    "rank_orders = [1, 1, -1, -1]\n",
    "\n",
    "name_map = {s: s for s in scene_names}\n",
    "pretty_scene_names = [name_map[s] for s in scene_names]\n",
    "\n",
    "for i_metric, metric in enumerate(['psnr', 'ssim', 'lpips', 'normals_mae']):\n",
    "  print(metric)\n",
    "  precision = precisions[i_metric]\n",
    "  rank_order = rank_orders[i_metric]\n",
    "\n",
    "  print(' & ' + ' & '.join(['\\\\textit{' + s + '}' for s in pretty_scene_names]) + ' \\\\\\\\\\\\hline')\n",
    "  data = np.array([np.array([s[metric] for s in scene_stats]) for scene_stats in all_stats])\n",
    "  render_table(names, data, [precision] * len(scene_names), [rank_order] * len(scene_names))\n",
    "  print()"
   ]
  },
  {
   "cell_type": "code",
   "execution_count": null,
   "metadata": {
    "executionInfo": {
     "elapsed": 4986,
     "status": "ok",
     "timestamp": 1656870945508,
     "user": {
      "displayName": "",
      "userId": ""
     },
     "user_tz": -60
    },
    "id": "k54UULwA3U-N",
    "outputId": "6543b07e-009a-4f42-c882-bd2ac9771c46"
   },
   "outputs": [
    {
     "name": "stdout",
     "output_type": "stream",
     "text": [
      "blender_refnerf_453115176 coffee {'psnr': 34.890018711090086, 'ssim': 0.9749827212095261, 'lpips': 0.07588588723912836, 'normals_mae': 11.845668504500003, 'num_hours': 6.575390185535848, 'mega_params': 0.71323}\n",
      "blender_refnerf_453115176 helmet3 {'psnr': 29.714286947250365, 'ssim': 0.9552837216854095, 'lpips': 0.08357305970042944, 'normals_mae': 36.671281015, 'num_hours': 6.560205667893172, 'mega_params': 0.71323}\n",
      "blender_refnerf_453115176 musclecar {'psnr': 31.08492564201355, 'ssim': 0.9564637777209282, 'lpips': 0.04047968026250601, 'normals_mae': 15.1815526225, 'num_hours': 6.561444666399807, 'mega_params': 0.71323}\n",
      "blender_refnerf_453115176 phong_envmap {'psnr': 38.04869948387146, 'ssim': 0.9839657709002495, 'lpips': 0.0813480182737112, 'normals_mae': 4.32499015, 'num_hours': 6.565148490103001, 'mega_params': 0.71323}\n",
      "blender_refnerf_453115176 teapot2 {'psnr': 45.91226264953613, 'ssim': 0.9964187118411064, 'lpips': 0.009179396553663536, 'normals_mae': 26.659667385, 'num_hours': 6.568492677763366, 'mega_params': 0.71323}\n",
      "blender_refnerf_453115176 toaster {'psnr': 25.5054944562912, 'ssim': 0.9183712688088417, 'lpips': 0.10447088478133082, 'normals_mae': 43.071832670000006, 'num_hours': 6.571352772368665, 'mega_params': 0.71323}\n",
      "blender_refnerf_453115176 {'psnr': 34.19261464834213, 'ssim': 0.9642476620276769, 'lpips': 0.06582282113512823, 'normals_mae': 22.959165391166664, 'num_hours': 6.567005743343977, 'mega_params': 0.7132300000000001}\n"
     ]
    }
   ],
   "source": [
    "root_folder = '/cns/lu-d/home/buff/dorverbin/nerf/mipnerf360/'\n",
    "scene_names = ['coffee', 'helmet3', 'musclecar', 'phong_envmap', 'teapot2', 'toaster']\n",
    "metric_names = ['psnr', 'ssim', 'lpips', 'normals_mae']\n",
    "\n",
    "models_meta = {} # folder : latex_name\n",
    "models_meta[None] = 'ref-NeRF (from the paper)'\n",
    "models_meta['blender_refnerf_453115176'] = 'ref-NeRF 360'\n",
    "\n",
    "NUM_ITERS = 250000\n",
    "\n",
    "all_stats = []\n",
    "avg_stats = []\n",
    "for model_path in models_meta.keys():\n",
    "\n",
    "  if model_path is None:\n",
    "    # Inject the numbers from the paper.\n",
    "    psnrs = [34.21, 29.68, 30.82, 47.46, 47.90, 25.70]\n",
    "    ssims = [0.974, 0.958, 0.955, 0.995, 0.998, 0.922]\n",
    "    lpips = [0.078, 0.075, 0.041, 0.059, 0.004, 0.095]\n",
    "    nmaes = [12.240, 29.484, 14.927, 1.548, 9.234, 42.870]\n",
    "    train_times = [np.nan]*len(psnrs)\n",
    "    model_sizes = [np.nan]*len(psnrs)\n",
    "    scene_stats = []\n",
    "    for p, s, l, n, tt, ms in zip(psnrs, ssims, lpips, nmaes, train_times, model_sizes):\n",
    "      scene_stats.append({'psnr': p, 'ssim': s, 'lpips': l, 'normals_mae': n, 'num_hours': tt, 'mega_params': ms})\n",
    "    avg_stats.append({k: type(scene_stats[0][k])(np.mean([s[k] for s in scene_stats])) for k in scene_stats[0].keys()})\n",
    "    all_stats.append(scene_stats)\n",
    "    continue;\n",
    "\n",
    "  scene_stats = []\n",
    "  for scene_name in scene_names:\n",
    "    folder = os.path.join(root_folder, model_path, scene_name)\n",
    "    stats = scrape_folder(folder, NUM_ITERS, metric_names=metric_names)\n",
    "    print(model_path, scene_name, stats)\n",
    "    scene_stats.append(stats)\n",
    "  avg_stats.append({k: type(scene_stats[0][k])(np.mean([s[k] for s in scene_stats])) for k in scene_stats[0].keys()})\n",
    "  all_stats.append(scene_stats)\n",
    "  print(model_path, avg_stats[-1])"
   ]
  },
  {
   "cell_type": "code",
   "execution_count": null,
   "metadata": {
    "executionInfo": {
     "elapsed": 74,
     "status": "ok",
     "timestamp": 1656870945704,
     "user": {
      "displayName": "",
      "userId": ""
     },
     "user_tz": -60
    },
    "id": "DpWZo3IIRnq4",
    "outputId": "05b1c264-f524-44b9-c447-eb5cc6d9603c"
   },
   "outputs": [
    {
     "name": "stdout",
     "output_type": "stream",
     "text": [
      "ref-NeRF (from the paper) &    \\cellcolor{red}35.96 &    \\cellcolor{red}0.967 &    \\cellcolor{red}0.059 &    \\cellcolor{red}18.38 &  -  &  -  \\\\\n",
      "ref-NeRF 360              & \\cellcolor{orange}34.19 & \\cellcolor{orange}0.964 & \\cellcolor{orange}0.066 & \\cellcolor{orange}22.96 & 6.57 & 0.7M \\\\\n"
     ]
    }
   ],
   "source": [
    "names = list(models_meta.values())\n",
    "data = np.stack([list(s.values()) for s in avg_stats])\n",
    "precisions = [2, 3, 3, 2, 2, 1]\n",
    "rank_order = [1, 1, -1, -1, 0, 0]  # +1 = higher is better, -1 = lower is better, 0 = do not color code\n",
    "suffixes = ['', '', '', '', '', 'M']\n",
    "render_table(names, data, precisions, rank_order, suffixes=suffixes)"
   ]
  },
  {
   "cell_type": "code",
   "execution_count": null,
   "metadata": {
    "executionInfo": {
     "elapsed": 56,
     "status": "ok",
     "timestamp": 1656870945900,
     "user": {
      "displayName": "",
      "userId": ""
     },
     "user_tz": -60
    },
    "id": "rJpqItPs3hLA",
    "outputId": "8a19973b-2968-4fe3-ed12-3e7d710635b0"
   },
   "outputs": [
    {
     "name": "stdout",
     "output_type": "stream",
     "text": [
      "psnr\n",
      " & \\textit{coffee} & \\textit{helmet} & \\textit{car} & \\textit{ball} & \\textit{teapot} & \\textit{toaster} \\\\\\hline\n",
      "ref-NeRF (from the paper) & \\cellcolor{orange}34.21 & \\cellcolor{orange}29.68 & \\cellcolor{orange}30.82 &    \\cellcolor{red}47.46 &    \\cellcolor{red}47.90 &    \\cellcolor{red}25.70 \\\\\n",
      "ref-NeRF 360              &    \\cellcolor{red}34.89 &    \\cellcolor{red}29.71 &    \\cellcolor{red}31.08 & \\cellcolor{orange}38.05 & \\cellcolor{orange}45.91 & \\cellcolor{orange}25.51 \\\\\n",
      "\n",
      "ssim\n",
      " & \\textit{coffee} & \\textit{helmet} & \\textit{car} & \\textit{ball} & \\textit{teapot} & \\textit{toaster} \\\\\\hline\n",
      "ref-NeRF (from the paper) & \\cellcolor{orange}0.974 &    \\cellcolor{red}0.958 & \\cellcolor{orange}0.955 &    \\cellcolor{red}0.995 &    \\cellcolor{red}0.998 &    \\cellcolor{red}0.922 \\\\\n",
      "ref-NeRF 360              &    \\cellcolor{red}0.975 & \\cellcolor{orange}0.955 &    \\cellcolor{red}0.956 & \\cellcolor{orange}0.984 & \\cellcolor{orange}0.996 & \\cellcolor{orange}0.918 \\\\\n",
      "\n",
      "lpips\n",
      " & \\textit{coffee} & \\textit{helmet} & \\textit{car} & \\textit{ball} & \\textit{teapot} & \\textit{toaster} \\\\\\hline\n",
      "ref-NeRF (from the paper) & \\cellcolor{orange}0.078 &    \\cellcolor{red}0.075 & \\cellcolor{orange}0.041 &    \\cellcolor{red}0.059 &    \\cellcolor{red}0.004 &    \\cellcolor{red}0.095 \\\\\n",
      "ref-NeRF 360              &    \\cellcolor{red}0.076 & \\cellcolor{orange}0.084 &    \\cellcolor{red}0.040 & \\cellcolor{orange}0.081 & \\cellcolor{orange}0.009 & \\cellcolor{orange}0.104 \\\\\n",
      "\n",
      "normals_mae\n",
      " & \\textit{coffee} & \\textit{helmet} & \\textit{car} & \\textit{ball} & \\textit{teapot} & \\textit{toaster} \\\\\\hline\n",
      "ref-NeRF (from the paper) & \\cellcolor{orange}12.24 &    \\cellcolor{red}29.48 &    \\cellcolor{red}14.93 &    \\cellcolor{red}1.55 &    \\cellcolor{red}9.23 &    \\cellcolor{red}42.87 \\\\\n",
      "ref-NeRF 360              &    \\cellcolor{red}11.85 & \\cellcolor{orange}36.67 & \\cellcolor{orange}15.18 & \\cellcolor{orange}4.32 & \\cellcolor{orange}26.66 & \\cellcolor{orange}43.07 \\\\\n",
      "\n"
     ]
    }
   ],
   "source": [
    "names = list(models_meta.values())\n",
    "\n",
    "precisions = [2, 3, 3, 2]\n",
    "rank_orders = [1, 1, -1, -1]\n",
    "\n",
    "name_map = {s: s for s in scene_names}\n",
    "name_map['coffee'] = 'coffee'\n",
    "name_map['teapot2'] = 'teapot'\n",
    "name_map['musclecar'] = 'car'\n",
    "name_map['phong_envmap'] = 'ball'\n",
    "name_map['helmet3'] = 'helmet'\n",
    "name_map['toaster'] = 'toaster'\n",
    "pretty_scene_names = [name_map[s] for s in scene_names]\n",
    "\n",
    "for i_metric, metric in enumerate(['psnr', 'ssim', 'lpips', 'normals_mae']):\n",
    "  print(metric)\n",
    "  precision = precisions[i_metric]\n",
    "  rank_order = rank_orders[i_metric]\n",
    "\n",
    "  print(' & ' + ' & '.join(['\\\\textit{' + s + '}' for s in pretty_scene_names]) + ' \\\\\\\\\\\\hline')\n",
    "  data = np.array([np.array([s[metric] for s in scene_stats]) for scene_stats in all_stats])\n",
    "  render_table(names, data, [precision] * len(scene_names), [rank_order] * len(scene_names))\n",
    "  print()"
   ]
  }
 ],
 "metadata": {
  "colab": {
   "collapsed_sections": [],
   "last_runtime": {
    "build_target": "//learning/deepmind/public/tools/ml_python:ml_notebook",
    "kind": "private"
   },
   "name": "generate_tables.ipynb",
   "provenance": [
    {
     "file_id": "/piper/depot/google3/googlex/gcam/buff/mipnerf360/scripts/generate_tables.ipynb?workspaceId=dorverbin:refnerf_hybrid::citc",
     "timestamp": 1654708265431
    },
    {
     "file_id": "/piper/depot/google3/experimental/users/barron/prob_nerf/scripts/eval_single.ipynb?workspaceId=barron:mipnerf360_paper::citc",
     "timestamp": 1635265902094
    },
    {
     "file_id": "/piper/depot/google3/experimental/users/barron/prob_nerf/scripts/Pre_NeRF_Eval_multi.ipynb?workspaceId=barron:jaxnerf_mono5::citc",
     "timestamp": 1614394543651
    },
    {
     "file_id": "/piper/depot/google3/experimental/users/barron/prob_nerf/scripts/Pre_NeRF_Eval.ipynb?workspaceId=barron:jaxnerf_mono5::citc",
     "timestamp": 1614038274387
    },
    {
     "file_id": "10opVizeODokMJ10R7hwq7qVyLmYZx_ZA",
     "timestamp": 1613166364224
    }
   ]
  },
  "kernelspec": {
   "display_name": "Python 3 (ipykernel)",
   "language": "python",
   "name": "python3"
  },
  "language_info": {
   "codemirror_mode": {
    "name": "ipython",
    "version": 3
   },
   "file_extension": ".py",
   "mimetype": "text/x-python",
   "name": "python",
   "nbconvert_exporter": "python",
   "pygments_lexer": "ipython3",
   "version": "3.9.12"
  }
 },
 "nbformat": 4,
 "nbformat_minor": 1
}
